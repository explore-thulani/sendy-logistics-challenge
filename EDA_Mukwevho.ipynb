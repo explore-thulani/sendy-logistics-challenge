{
 "cells": [
  {
   "cell_type": "code",
   "execution_count": 2,
   "metadata": {},
   "outputs": [],
   "source": [
    "#import libraries for manipulating data\n",
    "import numpy as np\n",
    "import pandas as pd\n",
    "\n",
    "#importing library for stats\n",
    "import scipy.stats as st\n",
    "\n",
    "#import libraries for visualizations\n",
    "import matplotlib.pyplot as plt\n",
    "import seaborn as sns\n"
   ]
  },
  {
   "cell_type": "code",
   "execution_count": 3,
   "metadata": {},
   "outputs": [],
   "source": [
    "#import data set\n",
    "train = pd.read_csv(\"data/Train.csv\")"
   ]
  },
  {
   "cell_type": "markdown",
   "metadata": {},
   "source": [
    "# Problem context"
   ]
  },
  {
   "cell_type": "markdown",
   "metadata": {},
   "source": [
    "Logistics in Sub-Saharan Africa increases the cost of manufactured goods by up to 320%; while in Europe, \n",
    "it only accounts for up to 90% of the manufacturing cost. The aim of this hackathon is to help Sendy predict\n",
    "delivery time from driver picking up the item to the time of delivery. This will help Sendy to enhance \n",
    "customer communication, reliability, and customer experience in general. In addition, the solution will \n",
    "enable Sendy to realise cost savings, and ultimately reduce the cost of doing business, through improved\n",
    "resource management and planning for order scheduling.\n"
   ]
  },
  {
   "cell_type": "markdown",
   "metadata": {},
   "source": [
    "# Exploratory Data Analysis (EDA)"
   ]
  },
  {
   "cell_type": "code",
   "execution_count": 4,
   "metadata": {},
   "outputs": [
    {
     "data": {
      "text/plain": [
       "(21201, 29)"
      ]
     },
     "execution_count": 4,
     "metadata": {},
     "output_type": "execute_result"
    }
   ],
   "source": [
    "train.shape"
   ]
  },
  {
   "cell_type": "code",
   "execution_count": 5,
   "metadata": {},
   "outputs": [
    {
     "data": {
      "text/plain": [
       "Index(['Order No', 'User Id', 'Vehicle Type', 'Platform Type',\n",
       "       'Personal or Business', 'Placement - Day of Month',\n",
       "       'Placement - Weekday (Mo = 1)', 'Placement - Time',\n",
       "       'Confirmation - Day of Month', 'Confirmation - Weekday (Mo = 1)',\n",
       "       'Confirmation - Time', 'Arrival at Pickup - Day of Month',\n",
       "       'Arrival at Pickup - Weekday (Mo = 1)', 'Arrival at Pickup - Time',\n",
       "       'Pickup - Day of Month', 'Pickup - Weekday (Mo = 1)', 'Pickup - Time',\n",
       "       'Arrival at Destination - Day of Month',\n",
       "       'Arrival at Destination - Weekday (Mo = 1)',\n",
       "       'Arrival at Destination - Time', 'Distance (KM)', 'Temperature',\n",
       "       'Precipitation in millimeters', 'Pickup Lat', 'Pickup Long',\n",
       "       'Destination Lat', 'Destination Long', 'Rider Id',\n",
       "       'Time from Pickup to Arrival'],\n",
       "      dtype='object')"
      ]
     },
     "execution_count": 5,
     "metadata": {},
     "output_type": "execute_result"
    }
   ],
   "source": [
    "train.columns"
   ]
  },
  {
   "cell_type": "code",
   "execution_count": 6,
   "metadata": {},
   "outputs": [
    {
     "data": {
      "text/html": [
       "<div>\n",
       "<style scoped>\n",
       "    .dataframe tbody tr th:only-of-type {\n",
       "        vertical-align: middle;\n",
       "    }\n",
       "\n",
       "    .dataframe tbody tr th {\n",
       "        vertical-align: top;\n",
       "    }\n",
       "\n",
       "    .dataframe thead th {\n",
       "        text-align: right;\n",
       "    }\n",
       "</style>\n",
       "<table border=\"1\" class=\"dataframe\">\n",
       "  <thead>\n",
       "    <tr style=\"text-align: right;\">\n",
       "      <th></th>\n",
       "      <th>Order No</th>\n",
       "      <th>User Id</th>\n",
       "      <th>Vehicle Type</th>\n",
       "      <th>Platform Type</th>\n",
       "      <th>Personal or Business</th>\n",
       "      <th>Placement - Day of Month</th>\n",
       "      <th>Placement - Weekday (Mo = 1)</th>\n",
       "      <th>Placement - Time</th>\n",
       "      <th>Confirmation - Day of Month</th>\n",
       "      <th>Confirmation - Weekday (Mo = 1)</th>\n",
       "      <th>...</th>\n",
       "      <th>Arrival at Destination - Time</th>\n",
       "      <th>Distance (KM)</th>\n",
       "      <th>Temperature</th>\n",
       "      <th>Precipitation in millimeters</th>\n",
       "      <th>Pickup Lat</th>\n",
       "      <th>Pickup Long</th>\n",
       "      <th>Destination Lat</th>\n",
       "      <th>Destination Long</th>\n",
       "      <th>Rider Id</th>\n",
       "      <th>Time from Pickup to Arrival</th>\n",
       "    </tr>\n",
       "  </thead>\n",
       "  <tbody>\n",
       "    <tr>\n",
       "      <th>0</th>\n",
       "      <td>Order_No_4211</td>\n",
       "      <td>User_Id_633</td>\n",
       "      <td>Bike</td>\n",
       "      <td>3</td>\n",
       "      <td>Business</td>\n",
       "      <td>9</td>\n",
       "      <td>5</td>\n",
       "      <td>9:35:46 AM</td>\n",
       "      <td>9</td>\n",
       "      <td>5</td>\n",
       "      <td>...</td>\n",
       "      <td>10:39:55 AM</td>\n",
       "      <td>4</td>\n",
       "      <td>20.4</td>\n",
       "      <td>NaN</td>\n",
       "      <td>-1.317755</td>\n",
       "      <td>36.830370</td>\n",
       "      <td>-1.300406</td>\n",
       "      <td>36.829741</td>\n",
       "      <td>Rider_Id_432</td>\n",
       "      <td>745</td>\n",
       "    </tr>\n",
       "    <tr>\n",
       "      <th>1</th>\n",
       "      <td>Order_No_25375</td>\n",
       "      <td>User_Id_2285</td>\n",
       "      <td>Bike</td>\n",
       "      <td>3</td>\n",
       "      <td>Personal</td>\n",
       "      <td>12</td>\n",
       "      <td>5</td>\n",
       "      <td>11:16:16 AM</td>\n",
       "      <td>12</td>\n",
       "      <td>5</td>\n",
       "      <td>...</td>\n",
       "      <td>12:17:22 PM</td>\n",
       "      <td>16</td>\n",
       "      <td>26.4</td>\n",
       "      <td>NaN</td>\n",
       "      <td>-1.351453</td>\n",
       "      <td>36.899315</td>\n",
       "      <td>-1.295004</td>\n",
       "      <td>36.814358</td>\n",
       "      <td>Rider_Id_856</td>\n",
       "      <td>1993</td>\n",
       "    </tr>\n",
       "    <tr>\n",
       "      <th>2</th>\n",
       "      <td>Order_No_1899</td>\n",
       "      <td>User_Id_265</td>\n",
       "      <td>Bike</td>\n",
       "      <td>3</td>\n",
       "      <td>Business</td>\n",
       "      <td>30</td>\n",
       "      <td>2</td>\n",
       "      <td>12:39:25 PM</td>\n",
       "      <td>30</td>\n",
       "      <td>2</td>\n",
       "      <td>...</td>\n",
       "      <td>1:00:38 PM</td>\n",
       "      <td>3</td>\n",
       "      <td>NaN</td>\n",
       "      <td>NaN</td>\n",
       "      <td>-1.308284</td>\n",
       "      <td>36.843419</td>\n",
       "      <td>-1.300921</td>\n",
       "      <td>36.828195</td>\n",
       "      <td>Rider_Id_155</td>\n",
       "      <td>455</td>\n",
       "    </tr>\n",
       "    <tr>\n",
       "      <th>3</th>\n",
       "      <td>Order_No_9336</td>\n",
       "      <td>User_Id_1402</td>\n",
       "      <td>Bike</td>\n",
       "      <td>3</td>\n",
       "      <td>Business</td>\n",
       "      <td>15</td>\n",
       "      <td>5</td>\n",
       "      <td>9:25:34 AM</td>\n",
       "      <td>15</td>\n",
       "      <td>5</td>\n",
       "      <td>...</td>\n",
       "      <td>10:05:27 AM</td>\n",
       "      <td>9</td>\n",
       "      <td>19.2</td>\n",
       "      <td>NaN</td>\n",
       "      <td>-1.281301</td>\n",
       "      <td>36.832396</td>\n",
       "      <td>-1.257147</td>\n",
       "      <td>36.795063</td>\n",
       "      <td>Rider_Id_855</td>\n",
       "      <td>1341</td>\n",
       "    </tr>\n",
       "    <tr>\n",
       "      <th>4</th>\n",
       "      <td>Order_No_27883</td>\n",
       "      <td>User_Id_1737</td>\n",
       "      <td>Bike</td>\n",
       "      <td>1</td>\n",
       "      <td>Personal</td>\n",
       "      <td>13</td>\n",
       "      <td>1</td>\n",
       "      <td>9:55:18 AM</td>\n",
       "      <td>13</td>\n",
       "      <td>1</td>\n",
       "      <td>...</td>\n",
       "      <td>10:25:37 AM</td>\n",
       "      <td>9</td>\n",
       "      <td>15.4</td>\n",
       "      <td>NaN</td>\n",
       "      <td>-1.266597</td>\n",
       "      <td>36.792118</td>\n",
       "      <td>-1.295041</td>\n",
       "      <td>36.809817</td>\n",
       "      <td>Rider_Id_770</td>\n",
       "      <td>1214</td>\n",
       "    </tr>\n",
       "  </tbody>\n",
       "</table>\n",
       "<p>5 rows × 29 columns</p>\n",
       "</div>"
      ],
      "text/plain": [
       "         Order No       User Id Vehicle Type  Platform Type  \\\n",
       "0   Order_No_4211   User_Id_633         Bike              3   \n",
       "1  Order_No_25375  User_Id_2285         Bike              3   \n",
       "2   Order_No_1899   User_Id_265         Bike              3   \n",
       "3   Order_No_9336  User_Id_1402         Bike              3   \n",
       "4  Order_No_27883  User_Id_1737         Bike              1   \n",
       "\n",
       "  Personal or Business  Placement - Day of Month  \\\n",
       "0             Business                         9   \n",
       "1             Personal                        12   \n",
       "2             Business                        30   \n",
       "3             Business                        15   \n",
       "4             Personal                        13   \n",
       "\n",
       "   Placement - Weekday (Mo = 1) Placement - Time  Confirmation - Day of Month  \\\n",
       "0                             5       9:35:46 AM                            9   \n",
       "1                             5      11:16:16 AM                           12   \n",
       "2                             2      12:39:25 PM                           30   \n",
       "3                             5       9:25:34 AM                           15   \n",
       "4                             1       9:55:18 AM                           13   \n",
       "\n",
       "   Confirmation - Weekday (Mo = 1)  ... Arrival at Destination - Time  \\\n",
       "0                                5  ...                   10:39:55 AM   \n",
       "1                                5  ...                   12:17:22 PM   \n",
       "2                                2  ...                    1:00:38 PM   \n",
       "3                                5  ...                   10:05:27 AM   \n",
       "4                                1  ...                   10:25:37 AM   \n",
       "\n",
       "   Distance (KM)  Temperature Precipitation in millimeters  Pickup Lat  \\\n",
       "0              4         20.4                          NaN   -1.317755   \n",
       "1             16         26.4                          NaN   -1.351453   \n",
       "2              3          NaN                          NaN   -1.308284   \n",
       "3              9         19.2                          NaN   -1.281301   \n",
       "4              9         15.4                          NaN   -1.266597   \n",
       "\n",
       "   Pickup Long Destination Lat  Destination Long      Rider Id  \\\n",
       "0    36.830370       -1.300406         36.829741  Rider_Id_432   \n",
       "1    36.899315       -1.295004         36.814358  Rider_Id_856   \n",
       "2    36.843419       -1.300921         36.828195  Rider_Id_155   \n",
       "3    36.832396       -1.257147         36.795063  Rider_Id_855   \n",
       "4    36.792118       -1.295041         36.809817  Rider_Id_770   \n",
       "\n",
       "  Time from Pickup to Arrival  \n",
       "0                         745  \n",
       "1                        1993  \n",
       "2                         455  \n",
       "3                        1341  \n",
       "4                        1214  \n",
       "\n",
       "[5 rows x 29 columns]"
      ]
     },
     "execution_count": 6,
     "metadata": {},
     "output_type": "execute_result"
    }
   ],
   "source": [
    "train.head(5)"
   ]
  },
  {
   "cell_type": "code",
   "execution_count": 7,
   "metadata": {},
   "outputs": [
    {
     "name": "stdout",
     "output_type": "stream",
     "text": [
      "<class 'pandas.core.frame.DataFrame'>\n",
      "RangeIndex: 21201 entries, 0 to 21200\n",
      "Data columns (total 29 columns):\n",
      " #   Column                                     Non-Null Count  Dtype  \n",
      "---  ------                                     --------------  -----  \n",
      " 0   Order No                                   21201 non-null  object \n",
      " 1   User Id                                    21201 non-null  object \n",
      " 2   Vehicle Type                               21201 non-null  object \n",
      " 3   Platform Type                              21201 non-null  int64  \n",
      " 4   Personal or Business                       21201 non-null  object \n",
      " 5   Placement - Day of Month                   21201 non-null  int64  \n",
      " 6   Placement - Weekday (Mo = 1)               21201 non-null  int64  \n",
      " 7   Placement - Time                           21201 non-null  object \n",
      " 8   Confirmation - Day of Month                21201 non-null  int64  \n",
      " 9   Confirmation - Weekday (Mo = 1)            21201 non-null  int64  \n",
      " 10  Confirmation - Time                        21201 non-null  object \n",
      " 11  Arrival at Pickup - Day of Month           21201 non-null  int64  \n",
      " 12  Arrival at Pickup - Weekday (Mo = 1)       21201 non-null  int64  \n",
      " 13  Arrival at Pickup - Time                   21201 non-null  object \n",
      " 14  Pickup - Day of Month                      21201 non-null  int64  \n",
      " 15  Pickup - Weekday (Mo = 1)                  21201 non-null  int64  \n",
      " 16  Pickup - Time                              21201 non-null  object \n",
      " 17  Arrival at Destination - Day of Month      21201 non-null  int64  \n",
      " 18  Arrival at Destination - Weekday (Mo = 1)  21201 non-null  int64  \n",
      " 19  Arrival at Destination - Time              21201 non-null  object \n",
      " 20  Distance (KM)                              21201 non-null  int64  \n",
      " 21  Temperature                                16835 non-null  float64\n",
      " 22  Precipitation in millimeters               552 non-null    float64\n",
      " 23  Pickup Lat                                 21201 non-null  float64\n",
      " 24  Pickup Long                                21201 non-null  float64\n",
      " 25  Destination Lat                            21201 non-null  float64\n",
      " 26  Destination Long                           21201 non-null  float64\n",
      " 27  Rider Id                                   21201 non-null  object \n",
      " 28  Time from Pickup to Arrival                21201 non-null  int64  \n",
      "dtypes: float64(6), int64(13), object(10)\n",
      "memory usage: 4.7+ MB\n"
     ]
    }
   ],
   "source": [
    "train.info()"
   ]
  },
  {
   "cell_type": "code",
   "execution_count": 8,
   "metadata": {},
   "outputs": [
    {
     "data": {
      "text/html": [
       "<div>\n",
       "<style scoped>\n",
       "    .dataframe tbody tr th:only-of-type {\n",
       "        vertical-align: middle;\n",
       "    }\n",
       "\n",
       "    .dataframe tbody tr th {\n",
       "        vertical-align: top;\n",
       "    }\n",
       "\n",
       "    .dataframe thead th {\n",
       "        text-align: right;\n",
       "    }\n",
       "</style>\n",
       "<table border=\"1\" class=\"dataframe\">\n",
       "  <thead>\n",
       "    <tr style=\"text-align: right;\">\n",
       "      <th></th>\n",
       "      <th>Rider Id</th>\n",
       "      <th>No_Of_Orders</th>\n",
       "      <th>Age</th>\n",
       "      <th>Average_Rating</th>\n",
       "      <th>No_of_Ratings</th>\n",
       "    </tr>\n",
       "  </thead>\n",
       "  <tbody>\n",
       "    <tr>\n",
       "      <th>0</th>\n",
       "      <td>Rider_Id_396</td>\n",
       "      <td>2946</td>\n",
       "      <td>2298</td>\n",
       "      <td>14.0</td>\n",
       "      <td>1159</td>\n",
       "    </tr>\n",
       "    <tr>\n",
       "      <th>1</th>\n",
       "      <td>Rider_Id_479</td>\n",
       "      <td>360</td>\n",
       "      <td>951</td>\n",
       "      <td>13.5</td>\n",
       "      <td>176</td>\n",
       "    </tr>\n",
       "    <tr>\n",
       "      <th>2</th>\n",
       "      <td>Rider_Id_648</td>\n",
       "      <td>1746</td>\n",
       "      <td>821</td>\n",
       "      <td>14.3</td>\n",
       "      <td>466</td>\n",
       "    </tr>\n",
       "    <tr>\n",
       "      <th>3</th>\n",
       "      <td>Rider_Id_753</td>\n",
       "      <td>314</td>\n",
       "      <td>980</td>\n",
       "      <td>12.5</td>\n",
       "      <td>75</td>\n",
       "    </tr>\n",
       "    <tr>\n",
       "      <th>4</th>\n",
       "      <td>Rider_Id_335</td>\n",
       "      <td>536</td>\n",
       "      <td>1113</td>\n",
       "      <td>13.7</td>\n",
       "      <td>156</td>\n",
       "    </tr>\n",
       "    <tr>\n",
       "      <th>...</th>\n",
       "      <td>...</td>\n",
       "      <td>...</td>\n",
       "      <td>...</td>\n",
       "      <td>...</td>\n",
       "      <td>...</td>\n",
       "    </tr>\n",
       "    <tr>\n",
       "      <th>955</th>\n",
       "      <td>Rider_Id_896</td>\n",
       "      <td>152</td>\n",
       "      <td>99</td>\n",
       "      <td>12.4</td>\n",
       "      <td>18</td>\n",
       "    </tr>\n",
       "    <tr>\n",
       "      <th>956</th>\n",
       "      <td>Rider_Id_149</td>\n",
       "      <td>69</td>\n",
       "      <td>101</td>\n",
       "      <td>10.2</td>\n",
       "      <td>10</td>\n",
       "    </tr>\n",
       "    <tr>\n",
       "      <th>957</th>\n",
       "      <td>Rider_Id_270</td>\n",
       "      <td>338</td>\n",
       "      <td>96</td>\n",
       "      <td>14.4</td>\n",
       "      <td>41</td>\n",
       "    </tr>\n",
       "    <tr>\n",
       "      <th>958</th>\n",
       "      <td>Rider_Id_201</td>\n",
       "      <td>159</td>\n",
       "      <td>96</td>\n",
       "      <td>15.0</td>\n",
       "      <td>9</td>\n",
       "    </tr>\n",
       "    <tr>\n",
       "      <th>959</th>\n",
       "      <td>Rider_Id_904</td>\n",
       "      <td>172</td>\n",
       "      <td>108</td>\n",
       "      <td>13.7</td>\n",
       "      <td>18</td>\n",
       "    </tr>\n",
       "  </tbody>\n",
       "</table>\n",
       "<p>960 rows × 5 columns</p>\n",
       "</div>"
      ],
      "text/plain": [
       "         Rider Id  No_Of_Orders   Age  Average_Rating  No_of_Ratings\n",
       "0    Rider_Id_396          2946  2298            14.0           1159\n",
       "1    Rider_Id_479           360   951            13.5            176\n",
       "2    Rider_Id_648          1746   821            14.3            466\n",
       "3    Rider_Id_753           314   980            12.5             75\n",
       "4    Rider_Id_335           536  1113            13.7            156\n",
       "..            ...           ...   ...             ...            ...\n",
       "955  Rider_Id_896           152    99            12.4             18\n",
       "956  Rider_Id_149            69   101            10.2             10\n",
       "957  Rider_Id_270           338    96            14.4             41\n",
       "958  Rider_Id_201           159    96            15.0              9\n",
       "959  Rider_Id_904           172   108            13.7             18\n",
       "\n",
       "[960 rows x 5 columns]"
      ]
     },
     "execution_count": 8,
     "metadata": {},
     "output_type": "execute_result"
    }
   ],
   "source": [
    "riders = pd.read_csv(\"data/Riders.csv\")\n",
    "riders"
   ]
  },
  {
   "cell_type": "markdown",
   "metadata": {},
   "source": [
    "# Feature Engineering"
   ]
  },
  {
   "cell_type": "code",
   "execution_count": 9,
   "metadata": {},
   "outputs": [],
   "source": [
    "def remove_colon(number):\n",
    "    if number[-1]==':' or number[-1]=='A' or number[-1]=='P' :\n",
    "        number = number[:-1]\n",
    "        \n",
    "    return number\n",
    "\n",
    "def convert_dates_to_seconds(df, date=\"Pickup - Day of Month\",\n",
    "                              time=\"Pickup - Time\"):\n",
    "    \"\"\"takes in pandas dataframe and converts time stamps\n",
    "    into seconds \"\"\"\n",
    "    date_in_seconds = []\n",
    "    days_in_seconds = (df[date]-1)*3600*24\n",
    "    \n",
    "    for i in range(len(df)):\n",
    "        hours = int(remove_colon(df[time][i][:2]))\n",
    "        mins =  int(remove_colon(df[time][i][3:5]))\n",
    "        seconds =  int(remove_colon(df[time][i][6:9]))\n",
    "        \n",
    "        if df[time][i][-2:] =='PM':\n",
    "            date_in_seconds.append((hours+12)*3600+mins*60+seconds)\n",
    "            \n",
    "        else:\n",
    "            date_in_seconds.append((hours)*3600+mins*60+seconds)\n",
    "                \n",
    "        \n",
    "    \n",
    "    return date_in_seconds"
   ]
  },
  {
   "cell_type": "code",
   "execution_count": 10,
   "metadata": {},
   "outputs": [],
   "source": [
    "def correct_data_format(df):\n",
    "    df = df.copy()\n",
    "    \"\"\"takes in data frame and transforms it into preferred data frame \"\"\"\n",
    "    \n",
    "    #convert dates\n",
    "    df[\"Placement - Time\"] = convert_dates_to_seconds(df,date= \"Placement - Day of Month\",time =\"Placement - Time\")\n",
    "    df[\"Confirmation - Time\"] = convert_dates_to_seconds(df,date= \"Confirmation - Day of Month\",time =\"Confirmation - Time\")\n",
    "    df[\"Pickup - Time\"] = convert_dates_to_seconds(df,date= \"Pickup - Day of Month\",time =\"Pickup - Time\")\n",
    "    df[\"Arrival at Pickup - Time\"] = convert_dates_to_seconds(df,date= \"Arrival at Pickup - Day of Month\",time =\"Arrival at Pickup - Time\")\n",
    "    #drop columns\n",
    "    df.drop([\"Placement - Day of Month\",\"Confirmation - Day of Month\", \"Precipitation in millimeters\",\n",
    "             \"Pickup - Day of Month\",\"Arrival at Destination - Day of Month\",\n",
    "            \"Arrival at Destination - Time\",\"Order No\",\"User Id\"],axis=1,inplace=True)\n",
    "\n",
    "    \n",
    "    \n",
    "    return df"
   ]
  },
  {
   "cell_type": "code",
   "execution_count": 12,
   "metadata": {},
   "outputs": [],
   "source": [
    "train = correct_data_format(train)"
   ]
  },
  {
   "cell_type": "code",
   "execution_count": 13,
   "metadata": {},
   "outputs": [],
   "source": [
    "train = pd.merge(train,riders,on=\"Rider Id\")"
   ]
  },
  {
   "cell_type": "code",
   "execution_count": null,
   "metadata": {},
   "outputs": [],
   "source": []
  },
  {
   "cell_type": "markdown",
   "metadata": {},
   "source": [
    "# Visualizations"
   ]
  },
  {
   "cell_type": "raw",
   "metadata": {},
   "source": [
    "# Visualizations"
   ]
  },
  {
   "cell_type": "code",
   "execution_count": 16,
   "metadata": {},
   "outputs": [
    {
     "data": {
      "text/plain": [
       "Text(0.5, 0, 'Platform type')"
      ]
     },
     "execution_count": 16,
     "metadata": {},
     "output_type": "execute_result"
    },
    {
     "data": {
      "image/png": "[encoded data removed]",
      "text/plain": [
       "<Figure size 1440x1080 with 9 Axes>"
      ]
     },
     "metadata": {
      "needs_background": "light"
     },
     "output_type": "display_data"
    }
   ],
   "source": [
    "fig, ((ax1, ax2, ax3), (ax4, ax5 ,ax6),(ax7, ax8,ax9)) = plt.subplots(nrows=3, ncols=3, sharex=False, sharey=False,figsize = (20,15))\n",
    "\n",
    "\n",
    "ax1.hist(train[\"Time from Pickup to Arrival\"], 150, histtype = 'step',density = True, label = \"data\");\n",
    "\n",
    "\n",
    "kde_xs = np.linspace(0, train[\"Time from Pickup to Arrival\"].max(), 301)\n",
    "kde = st.gaussian_kde(train[\"Time from Pickup to Arrival\"])\n",
    "ax1.plot(kde_xs, kde.pdf(kde_xs), label=\"Gaussian PDF\")\n",
    "ax1.legend(loc=\"upper right\")\n",
    "ax1.set_xlabel(\"time in seconds\")\n",
    "ax1.set_ylabel(\"percentage\");\n",
    "ax1.set_title(\"Histogram\");\n",
    "\n",
    "\n",
    "ax2.boxplot(x=train[\"Time from Pickup to Arrival\"])\n",
    "ax2.set_ylabel(\"time in seconds\");\n",
    "\n",
    "ax3.scatter(train[\"Distance (KM)\"],train[\"Time from Pickup to Arrival\"])\n",
    "ax3.set_xlabel(\"Distance (KM)\")\n",
    "ax3.set_ylabel(\"time in seconds\")\n",
    "\n",
    "ax4.scatter(train[\"Temperature\"],train[\"Time from Pickup to Arrival\"])\n",
    "ax4.set_xlabel(\"Temperature\")\n",
    "ax4.set_ylabel(\"time in seconds\")\n",
    "\n",
    "ax5.hist(train[\"Personal or Business\"])\n",
    "ax5.set_ylabel(\"count\")\n",
    "\n",
    "#ax6.hist(train[\"Vehicle Type\"])\n",
    "#ax6.set_ylabel(\"count\")\n",
    "\n",
    "ax7.hist(train[\"Rider Id\"], bins=960)\n",
    "ax7.set_ylabel(\"count\")\n",
    "\n",
    "ax8.scatter(train[\"Pickup - Time\"],train[\"Time from Pickup to Arrival\"])\n",
    "ax8.set_xlabel(\"pickup date in seconds\")\n",
    "ax8.set_ylabel(\"time from pickup to destination in seconds\")\n",
    "\n",
    "ax9.hist(train[\"Platform Type\"], bins = 10)\n",
    "ax9.set_xlabel(\"Platform type\")"
   ]
  },
  {
   "cell_type": "markdown",
   "metadata": {},
   "source": [
    "This dataset appears to have a normal distribution. This implies that we can use gaussian statistics to analyze the distribution of this data set with confidence. The worrying factor in the distribution is that the tails runs for a long time."
   ]
  },
  {
   "cell_type": "markdown",
   "metadata": {},
   "source": [
    "The box plot is skewed to the right. This means that quicker delivery times are closer to each other and deliveries that take time are not as close each other."
   ]
  },
  {
   "cell_type": "markdown",
   "metadata": {},
   "source": [
    "# Test Data"
   ]
  },
  {
   "cell_type": "code",
   "execution_count": 21,
   "metadata": {},
   "outputs": [],
   "source": [
    "test = pd.read_csv(\"data/Train.csv\")"
   ]
  },
  {
   "cell_type": "code",
   "execution_count": 22,
   "metadata": {},
   "outputs": [],
   "source": [
    "test = correct_data_format(test)\n",
    "test = pd.merge(test,riders,on=\"Rider Id\")"
   ]
  },
  {
   "cell_type": "code",
   "execution_count": 23,
   "metadata": {},
   "outputs": [
    {
     "data": {
      "text/html": [
       "<div>\n",
       "<style scoped>\n",
       "    .dataframe tbody tr th:only-of-type {\n",
       "        vertical-align: middle;\n",
       "    }\n",
       "\n",
       "    .dataframe tbody tr th {\n",
       "        vertical-align: top;\n",
       "    }\n",
       "\n",
       "    .dataframe thead th {\n",
       "        text-align: right;\n",
       "    }\n",
       "</style>\n",
       "<table border=\"1\" class=\"dataframe\">\n",
       "  <thead>\n",
       "    <tr style=\"text-align: right;\">\n",
       "      <th></th>\n",
       "      <th>Vehicle Type</th>\n",
       "      <th>Platform Type</th>\n",
       "      <th>Personal or Business</th>\n",
       "      <th>Placement - Weekday (Mo = 1)</th>\n",
       "      <th>Placement - Time</th>\n",
       "      <th>Confirmation - Weekday (Mo = 1)</th>\n",
       "      <th>Confirmation - Time</th>\n",
       "      <th>Arrival at Pickup - Day of Month</th>\n",
       "      <th>Arrival at Pickup - Weekday (Mo = 1)</th>\n",
       "      <th>Arrival at Pickup - Time</th>\n",
       "      <th>...</th>\n",
       "      <th>Pickup Lat</th>\n",
       "      <th>Pickup Long</th>\n",
       "      <th>Destination Lat</th>\n",
       "      <th>Destination Long</th>\n",
       "      <th>Rider Id</th>\n",
       "      <th>Time from Pickup to Arrival</th>\n",
       "      <th>No_Of_Orders</th>\n",
       "      <th>Age</th>\n",
       "      <th>Average_Rating</th>\n",
       "      <th>No_of_Ratings</th>\n",
       "    </tr>\n",
       "  </thead>\n",
       "  <tbody>\n",
       "    <tr>\n",
       "      <th>0</th>\n",
       "      <td>Bike</td>\n",
       "      <td>3</td>\n",
       "      <td>Business</td>\n",
       "      <td>5</td>\n",
       "      <td>32706</td>\n",
       "      <td>5</td>\n",
       "      <td>32400</td>\n",
       "      <td>9</td>\n",
       "      <td>5</td>\n",
       "      <td>36287</td>\n",
       "      <td>...</td>\n",
       "      <td>-1.317755</td>\n",
       "      <td>36.830370</td>\n",
       "      <td>-1.300406</td>\n",
       "      <td>36.829741</td>\n",
       "      <td>Rider_Id_432</td>\n",
       "      <td>745</td>\n",
       "      <td>1637</td>\n",
       "      <td>1309</td>\n",
       "      <td>13.8</td>\n",
       "      <td>549</td>\n",
       "    </tr>\n",
       "    <tr>\n",
       "      <th>1</th>\n",
       "      <td>Bike</td>\n",
       "      <td>3</td>\n",
       "      <td>Personal</td>\n",
       "      <td>5</td>\n",
       "      <td>54067</td>\n",
       "      <td>5</td>\n",
       "      <td>54060</td>\n",
       "      <td>18</td>\n",
       "      <td>5</td>\n",
       "      <td>58026</td>\n",
       "      <td>...</td>\n",
       "      <td>-1.326774</td>\n",
       "      <td>36.787807</td>\n",
       "      <td>-1.356237</td>\n",
       "      <td>36.904295</td>\n",
       "      <td>Rider_Id_432</td>\n",
       "      <td>2886</td>\n",
       "      <td>1637</td>\n",
       "      <td>1309</td>\n",
       "      <td>13.8</td>\n",
       "      <td>549</td>\n",
       "    </tr>\n",
       "    <tr>\n",
       "      <th>2</th>\n",
       "      <td>Bike</td>\n",
       "      <td>3</td>\n",
       "      <td>Business</td>\n",
       "      <td>5</td>\n",
       "      <td>89501</td>\n",
       "      <td>5</td>\n",
       "      <td>46929</td>\n",
       "      <td>31</td>\n",
       "      <td>5</td>\n",
       "      <td>46802</td>\n",
       "      <td>...</td>\n",
       "      <td>-1.255189</td>\n",
       "      <td>36.782203</td>\n",
       "      <td>-1.273412</td>\n",
       "      <td>36.818206</td>\n",
       "      <td>Rider_Id_432</td>\n",
       "      <td>2615</td>\n",
       "      <td>1637</td>\n",
       "      <td>1309</td>\n",
       "      <td>13.8</td>\n",
       "      <td>549</td>\n",
       "    </tr>\n",
       "    <tr>\n",
       "      <th>3</th>\n",
       "      <td>Bike</td>\n",
       "      <td>3</td>\n",
       "      <td>Personal</td>\n",
       "      <td>2</td>\n",
       "      <td>25320</td>\n",
       "      <td>2</td>\n",
       "      <td>25329</td>\n",
       "      <td>2</td>\n",
       "      <td>2</td>\n",
       "      <td>25504</td>\n",
       "      <td>...</td>\n",
       "      <td>-1.290315</td>\n",
       "      <td>36.757377</td>\n",
       "      <td>-1.223520</td>\n",
       "      <td>36.802061</td>\n",
       "      <td>Rider_Id_432</td>\n",
       "      <td>2986</td>\n",
       "      <td>1637</td>\n",
       "      <td>1309</td>\n",
       "      <td>13.8</td>\n",
       "      <td>549</td>\n",
       "    </tr>\n",
       "    <tr>\n",
       "      <th>4</th>\n",
       "      <td>Bike</td>\n",
       "      <td>2</td>\n",
       "      <td>Personal</td>\n",
       "      <td>2</td>\n",
       "      <td>38458</td>\n",
       "      <td>2</td>\n",
       "      <td>38544</td>\n",
       "      <td>22</td>\n",
       "      <td>2</td>\n",
       "      <td>39360</td>\n",
       "      <td>...</td>\n",
       "      <td>-1.273524</td>\n",
       "      <td>36.799220</td>\n",
       "      <td>-1.300431</td>\n",
       "      <td>36.752427</td>\n",
       "      <td>Rider_Id_432</td>\n",
       "      <td>1602</td>\n",
       "      <td>1637</td>\n",
       "      <td>1309</td>\n",
       "      <td>13.8</td>\n",
       "      <td>549</td>\n",
       "    </tr>\n",
       "    <tr>\n",
       "      <th>...</th>\n",
       "      <td>...</td>\n",
       "      <td>...</td>\n",
       "      <td>...</td>\n",
       "      <td>...</td>\n",
       "      <td>...</td>\n",
       "      <td>...</td>\n",
       "      <td>...</td>\n",
       "      <td>...</td>\n",
       "      <td>...</td>\n",
       "      <td>...</td>\n",
       "      <td>...</td>\n",
       "      <td>...</td>\n",
       "      <td>...</td>\n",
       "      <td>...</td>\n",
       "      <td>...</td>\n",
       "      <td>...</td>\n",
       "      <td>...</td>\n",
       "      <td>...</td>\n",
       "      <td>...</td>\n",
       "      <td>...</td>\n",
       "      <td>...</td>\n",
       "    </tr>\n",
       "    <tr>\n",
       "      <th>21196</th>\n",
       "      <td>Bike</td>\n",
       "      <td>3</td>\n",
       "      <td>Business</td>\n",
       "      <td>2</td>\n",
       "      <td>40177</td>\n",
       "      <td>2</td>\n",
       "      <td>41538</td>\n",
       "      <td>13</td>\n",
       "      <td>2</td>\n",
       "      <td>42572</td>\n",
       "      <td>...</td>\n",
       "      <td>-1.265003</td>\n",
       "      <td>36.812624</td>\n",
       "      <td>-1.265432</td>\n",
       "      <td>36.795034</td>\n",
       "      <td>Rider_Id_528</td>\n",
       "      <td>919</td>\n",
       "      <td>5770</td>\n",
       "      <td>1793</td>\n",
       "      <td>14.2</td>\n",
       "      <td>2205</td>\n",
       "    </tr>\n",
       "    <tr>\n",
       "      <th>21197</th>\n",
       "      <td>Bike</td>\n",
       "      <td>3</td>\n",
       "      <td>Personal</td>\n",
       "      <td>4</td>\n",
       "      <td>57787</td>\n",
       "      <td>4</td>\n",
       "      <td>58027</td>\n",
       "      <td>21</td>\n",
       "      <td>4</td>\n",
       "      <td>57781</td>\n",
       "      <td>...</td>\n",
       "      <td>-1.269609</td>\n",
       "      <td>36.825741</td>\n",
       "      <td>-1.278067</td>\n",
       "      <td>36.783487</td>\n",
       "      <td>Rider_Id_638</td>\n",
       "      <td>2331</td>\n",
       "      <td>102</td>\n",
       "      <td>873</td>\n",
       "      <td>13.7</td>\n",
       "      <td>32</td>\n",
       "    </tr>\n",
       "    <tr>\n",
       "      <th>21198</th>\n",
       "      <td>Bike</td>\n",
       "      <td>3</td>\n",
       "      <td>Business</td>\n",
       "      <td>1</td>\n",
       "      <td>61200</td>\n",
       "      <td>1</td>\n",
       "      <td>61261</td>\n",
       "      <td>10</td>\n",
       "      <td>1</td>\n",
       "      <td>64864</td>\n",
       "      <td>...</td>\n",
       "      <td>-1.250823</td>\n",
       "      <td>36.789526</td>\n",
       "      <td>-1.285850</td>\n",
       "      <td>36.830629</td>\n",
       "      <td>Rider_Id_773</td>\n",
       "      <td>2418</td>\n",
       "      <td>5</td>\n",
       "      <td>105</td>\n",
       "      <td>0.0</td>\n",
       "      <td>0</td>\n",
       "    </tr>\n",
       "    <tr>\n",
       "      <th>21199</th>\n",
       "      <td>Bike</td>\n",
       "      <td>3</td>\n",
       "      <td>Business</td>\n",
       "      <td>2</td>\n",
       "      <td>50465</td>\n",
       "      <td>2</td>\n",
       "      <td>50523</td>\n",
       "      <td>29</td>\n",
       "      <td>2</td>\n",
       "      <td>50705</td>\n",
       "      <td>...</td>\n",
       "      <td>-1.291787</td>\n",
       "      <td>36.787267</td>\n",
       "      <td>-1.298575</td>\n",
       "      <td>36.808800</td>\n",
       "      <td>Rider_Id_860</td>\n",
       "      <td>717</td>\n",
       "      <td>5</td>\n",
       "      <td>448</td>\n",
       "      <td>15.0</td>\n",
       "      <td>2</td>\n",
       "    </tr>\n",
       "    <tr>\n",
       "      <th>21200</th>\n",
       "      <td>Bike</td>\n",
       "      <td>3</td>\n",
       "      <td>Business</td>\n",
       "      <td>5</td>\n",
       "      <td>32463</td>\n",
       "      <td>5</td>\n",
       "      <td>32462</td>\n",
       "      <td>30</td>\n",
       "      <td>5</td>\n",
       "      <td>32526</td>\n",
       "      <td>...</td>\n",
       "      <td>-1.248278</td>\n",
       "      <td>36.884092</td>\n",
       "      <td>-1.286808</td>\n",
       "      <td>36.821940</td>\n",
       "      <td>Rider_Id_53</td>\n",
       "      <td>1647</td>\n",
       "      <td>241</td>\n",
       "      <td>1109</td>\n",
       "      <td>13.7</td>\n",
       "      <td>73</td>\n",
       "    </tr>\n",
       "  </tbody>\n",
       "</table>\n",
       "<p>21201 rows × 25 columns</p>\n",
       "</div>"
      ],
      "text/plain": [
       "      Vehicle Type  Platform Type Personal or Business  \\\n",
       "0             Bike              3             Business   \n",
       "1             Bike              3             Personal   \n",
       "2             Bike              3             Business   \n",
       "3             Bike              3             Personal   \n",
       "4             Bike              2             Personal   \n",
       "...            ...            ...                  ...   \n",
       "21196         Bike              3             Business   \n",
       "21197         Bike              3             Personal   \n",
       "21198         Bike              3             Business   \n",
       "21199         Bike              3             Business   \n",
       "21200         Bike              3             Business   \n",
       "\n",
       "       Placement - Weekday (Mo = 1)  Placement - Time  \\\n",
       "0                                 5             32706   \n",
       "1                                 5             54067   \n",
       "2                                 5             89501   \n",
       "3                                 2             25320   \n",
       "4                                 2             38458   \n",
       "...                             ...               ...   \n",
       "21196                             2             40177   \n",
       "21197                             4             57787   \n",
       "21198                             1             61200   \n",
       "21199                             2             50465   \n",
       "21200                             5             32463   \n",
       "\n",
       "       Confirmation - Weekday (Mo = 1)  Confirmation - Time  \\\n",
       "0                                    5                32400   \n",
       "1                                    5                54060   \n",
       "2                                    5                46929   \n",
       "3                                    2                25329   \n",
       "4                                    2                38544   \n",
       "...                                ...                  ...   \n",
       "21196                                2                41538   \n",
       "21197                                4                58027   \n",
       "21198                                1                61261   \n",
       "21199                                2                50523   \n",
       "21200                                5                32462   \n",
       "\n",
       "       Arrival at Pickup - Day of Month  Arrival at Pickup - Weekday (Mo = 1)  \\\n",
       "0                                     9                                     5   \n",
       "1                                    18                                     5   \n",
       "2                                    31                                     5   \n",
       "3                                     2                                     2   \n",
       "4                                    22                                     2   \n",
       "...                                 ...                                   ...   \n",
       "21196                                13                                     2   \n",
       "21197                                21                                     4   \n",
       "21198                                10                                     1   \n",
       "21199                                29                                     2   \n",
       "21200                                30                                     5   \n",
       "\n",
       "       Arrival at Pickup - Time  ...  Pickup Lat  Pickup Long  \\\n",
       "0                         36287  ...   -1.317755    36.830370   \n",
       "1                         58026  ...   -1.326774    36.787807   \n",
       "2                         46802  ...   -1.255189    36.782203   \n",
       "3                         25504  ...   -1.290315    36.757377   \n",
       "4                         39360  ...   -1.273524    36.799220   \n",
       "...                         ...  ...         ...          ...   \n",
       "21196                     42572  ...   -1.265003    36.812624   \n",
       "21197                     57781  ...   -1.269609    36.825741   \n",
       "21198                     64864  ...   -1.250823    36.789526   \n",
       "21199                     50705  ...   -1.291787    36.787267   \n",
       "21200                     32526  ...   -1.248278    36.884092   \n",
       "\n",
       "       Destination Lat  Destination Long      Rider Id  \\\n",
       "0            -1.300406         36.829741  Rider_Id_432   \n",
       "1            -1.356237         36.904295  Rider_Id_432   \n",
       "2            -1.273412         36.818206  Rider_Id_432   \n",
       "3            -1.223520         36.802061  Rider_Id_432   \n",
       "4            -1.300431         36.752427  Rider_Id_432   \n",
       "...                ...               ...           ...   \n",
       "21196        -1.265432         36.795034  Rider_Id_528   \n",
       "21197        -1.278067         36.783487  Rider_Id_638   \n",
       "21198        -1.285850         36.830629  Rider_Id_773   \n",
       "21199        -1.298575         36.808800  Rider_Id_860   \n",
       "21200        -1.286808         36.821940   Rider_Id_53   \n",
       "\n",
       "       Time from Pickup to Arrival  No_Of_Orders   Age  Average_Rating  \\\n",
       "0                              745          1637  1309            13.8   \n",
       "1                             2886          1637  1309            13.8   \n",
       "2                             2615          1637  1309            13.8   \n",
       "3                             2986          1637  1309            13.8   \n",
       "4                             1602          1637  1309            13.8   \n",
       "...                            ...           ...   ...             ...   \n",
       "21196                          919          5770  1793            14.2   \n",
       "21197                         2331           102   873            13.7   \n",
       "21198                         2418             5   105             0.0   \n",
       "21199                          717             5   448            15.0   \n",
       "21200                         1647           241  1109            13.7   \n",
       "\n",
       "      No_of_Ratings  \n",
       "0               549  \n",
       "1               549  \n",
       "2               549  \n",
       "3               549  \n",
       "4               549  \n",
       "...             ...  \n",
       "21196          2205  \n",
       "21197            32  \n",
       "21198             0  \n",
       "21199             2  \n",
       "21200            73  \n",
       "\n",
       "[21201 rows x 25 columns]"
      ]
     },
     "execution_count": 23,
     "metadata": {},
     "output_type": "execute_result"
    }
   ],
   "source": [
    "test"
   ]
  },
  {
   "cell_type": "markdown",
   "metadata": {},
   "source": [
    "# fitting simple linear against distance"
   ]
  },
  {
   "cell_type": "code",
   "execution_count": 78,
   "metadata": {},
   "outputs": [],
   "source": [
    "x_train = dataset.iloc[:,20:21].values\n",
    "\n",
    "y_train = dataset[\"Time from Pickup to Arrival\"].values"
   ]
  },
  {
   "cell_type": "code",
   "execution_count": 80,
   "metadata": {},
   "outputs": [
    {
     "data": {
      "text/plain": [
       "LinearRegression(copy_X=True, fit_intercept=True, n_jobs=None, normalize=False)"
      ]
     },
     "execution_count": 80,
     "metadata": {},
     "output_type": "execute_result"
    }
   ],
   "source": [
    "#fit the multiple linear regression to the training set\n",
    "from sklearn.linear_model import LinearRegression\n",
    "regressor = LinearRegression()\n",
    "regressor.fit(x_train,y_train)"
   ]
  },
  {
   "cell_type": "code",
   "execution_count": 82,
   "metadata": {},
   "outputs": [
    {
     "data": {
      "text/plain": [
       "Text(0, 0.5, 'time in seconds')"
      ]
     },
     "execution_count": 82,
     "metadata": {},
     "output_type": "execute_result"
    },
    {
     "data": {
      "image/png": "[encoded data removed]",
      "text/plain": [
       "<Figure size 432x288 with 1 Axes>"
      ]
     },
     "metadata": {
      "needs_background": "light"
     },
     "output_type": "display_data"
    }
   ],
   "source": [
    "plt.scatter(x_train,y_train,color = 'r')\n",
    "plt.plot(x_train, regressor.predict(x_train),color = 'b')\n",
    "plt.xlabel(\"Distance\")\n",
    "plt.ylabel(\"time in seconds\")"
   ]
  },
  {
   "cell_type": "code",
   "execution_count": 83,
   "metadata": {},
   "outputs": [
    {
     "data": {
      "text/plain": [
       "LinearRegression(copy_X=True, fit_intercept=True, n_jobs=None, normalize=False)"
      ]
     },
     "execution_count": 83,
     "metadata": {},
     "output_type": "execute_result"
    }
   ],
   "source": [
    "#build the polynomial regression model\n",
    "from sklearn.preprocessing import PolynomialFeatures\n",
    "polynomial_regressor = PolynomialFeatures(degree = 4)\n",
    "x_poly = polynomial_regressor.fit_transform(x_train)\n",
    "linear_regressor2 = LinearRegression()\n",
    "linear_regressor2.fit(x_poly,y_train)"
   ]
  },
  {
   "cell_type": "code",
   "execution_count": 89,
   "metadata": {},
   "outputs": [
    {
     "data": {
      "text/plain": [
       "Text(0, 0.5, 'time in seconds')"
      ]
     },
     "execution_count": 89,
     "metadata": {},
     "output_type": "execute_result"
    },
    {
     "data": {
      "image/png": "[encoded data removed]",
      "text/plain": [
       "<Figure size 432x288 with 1 Axes>"
      ]
     },
     "metadata": {
      "needs_background": "light"
     },
     "output_type": "display_data"
    }
   ],
   "source": [
    "#visualize the polynomial results\n",
    "\n",
    "x_grid = np.arange(min(x_train),max(x_train),0.1)\n",
    "x_grid = x_grid.reshape((len(x_grid),1))\n",
    "\n",
    "plt.scatter(x_train,y_train,color='r')\n",
    "plt.plot(x_grid,linear_regressor2.predict(polynomial_regressor.fit_transform(x_grid)),color = 'b')\n",
    "plt.xlabel(\"Distance\")\n",
    "plt.ylabel(\"time in seconds\")"
   ]
  },
  {
   "cell_type": "code",
   "execution_count": 91,
   "metadata": {},
   "outputs": [
    {
     "data": {
      "text/plain": [
       "SVR(C=1.0, cache_size=200, coef0=0.0, degree=3, epsilon=0.1, gamma='scale',\n",
       "    kernel='rbf', max_iter=-1, shrinking=True, tol=0.001, verbose=False)"
      ]
     },
     "execution_count": 91,
     "metadata": {},
     "output_type": "execute_result"
    }
   ],
   "source": [
    "from sklearn.svm import SVR\n",
    "regressor_svr = SVR(kernel = 'rbf')\n",
    "regressor_svr.fit(x_train,y_train)"
   ]
  },
  {
   "cell_type": "code",
   "execution_count": 92,
   "metadata": {},
   "outputs": [
    {
     "data": {
      "text/plain": [
       "[<matplotlib.lines.Line2D at 0x7ff9248980d0>]"
      ]
     },
     "execution_count": 92,
     "metadata": {},
     "output_type": "execute_result"
    },
    {
     "data": {
      "image/png": "[encoded data removed]",
      "text/plain": [
       "<Figure size 432x288 with 1 Axes>"
      ]
     },
     "metadata": {
      "needs_background": "light"
     },
     "output_type": "display_data"
    }
   ],
   "source": [
    "#visualize SVR \n",
    "plt.scatter(x_train,y_train,color = 'r')\n",
    "plt.plot(x,regressor_svr.predict(x_train))"
   ]
  },
  {
   "cell_type": "code",
   "execution_count": null,
   "metadata": {},
   "outputs": [],
   "source": []
  },
  {
   "cell_type": "code",
   "execution_count": 95,
   "metadata": {},
   "outputs": [
    {
     "data": {
      "text/plain": [
       "Text(0.5, 0.5, 'right')"
      ]
     },
     "execution_count": 95,
     "metadata": {},
     "output_type": "execute_result"
    },
    {
     "data": {
      "text/plain": [
       "<Figure size 432x432 with 0 Axes>"
      ]
     },
     "metadata": {},
     "output_type": "display_data"
    },
    {
     "data": {
      "image/png": "[encoded data removed]",
      "text/plain": [
       "<Figure size 432x288 with 2 Axes>"
      ]
     },
     "metadata": {
      "needs_background": "light"
     },
     "output_type": "display_data"
    }
   ],
   "source": [
    "plt.figure(figsize=(6, 6))\n",
    "\n",
    "fig, (ax1, ax2)  = plt.subplots(1, 2,\n",
    "                                sharey='row')\n",
    "\n",
    "ax1.text(0.5, 0.5, \n",
    "              \"left\",\n",
    "              color=\"green\",\n",
    "              fontsize=18, \n",
    "              ha='center')\n",
    "\n",
    "ax2.text(0.5, 0.5, \n",
    "              \"right\",\n",
    "              color=\"green\",\n",
    "              fontsize=18, \n",
    "              ha='center')"
   ]
  },
  {
   "cell_type": "code",
   "execution_count": 76,
   "metadata": {},
   "outputs": [
    {
     "ename": "AttributeError",
     "evalue": "'DataFrame' object has no attribute 'Distance'",
     "output_type": "error",
     "traceback": [
      "\u001b[0;31m---------------------------------------------------------------------------\u001b[0m",
      "\u001b[0;31mAttributeError\u001b[0m                            Traceback (most recent call last)",
      "\u001b[0;32m<ipython-input-76-33b97980ae19>\u001b[0m in \u001b[0;36m<module>\u001b[0;34m\u001b[0m\n\u001b[0;32m----> 1\u001b[0;31m \u001b[0mdataset\u001b[0m\u001b[0;34m.\u001b[0m\u001b[0mDistance\u001b[0m\u001b[0;34m.\u001b[0m\u001b[0mplot\u001b[0m\u001b[0;34m.\u001b[0m\u001b[0mhist\u001b[0m\u001b[0;34m(\u001b[0m\u001b[0;34m)\u001b[0m\u001b[0;34m\u001b[0m\u001b[0;34m\u001b[0m\u001b[0m\n\u001b[0m",
      "\u001b[0;32m~/anaconda3/lib/python3.7/site-packages/pandas/core/generic.py\u001b[0m in \u001b[0;36m__getattr__\u001b[0;34m(self, name)\u001b[0m\n\u001b[1;32m   5272\u001b[0m             \u001b[0;32mif\u001b[0m \u001b[0mself\u001b[0m\u001b[0;34m.\u001b[0m\u001b[0m_info_axis\u001b[0m\u001b[0;34m.\u001b[0m\u001b[0m_can_hold_identifiers_and_holds_name\u001b[0m\u001b[0;34m(\u001b[0m\u001b[0mname\u001b[0m\u001b[0;34m)\u001b[0m\u001b[0;34m:\u001b[0m\u001b[0;34m\u001b[0m\u001b[0;34m\u001b[0m\u001b[0m\n\u001b[1;32m   5273\u001b[0m                 \u001b[0;32mreturn\u001b[0m \u001b[0mself\u001b[0m\u001b[0;34m[\u001b[0m\u001b[0mname\u001b[0m\u001b[0;34m]\u001b[0m\u001b[0;34m\u001b[0m\u001b[0;34m\u001b[0m\u001b[0m\n\u001b[0;32m-> 5274\u001b[0;31m             \u001b[0;32mreturn\u001b[0m \u001b[0mobject\u001b[0m\u001b[0;34m.\u001b[0m\u001b[0m__getattribute__\u001b[0m\u001b[0;34m(\u001b[0m\u001b[0mself\u001b[0m\u001b[0;34m,\u001b[0m \u001b[0mname\u001b[0m\u001b[0;34m)\u001b[0m\u001b[0;34m\u001b[0m\u001b[0;34m\u001b[0m\u001b[0m\n\u001b[0m\u001b[1;32m   5275\u001b[0m \u001b[0;34m\u001b[0m\u001b[0m\n\u001b[1;32m   5276\u001b[0m     \u001b[0;32mdef\u001b[0m \u001b[0m__setattr__\u001b[0m\u001b[0;34m(\u001b[0m\u001b[0mself\u001b[0m\u001b[0;34m,\u001b[0m \u001b[0mname\u001b[0m\u001b[0;34m:\u001b[0m \u001b[0mstr\u001b[0m\u001b[0;34m,\u001b[0m \u001b[0mvalue\u001b[0m\u001b[0;34m)\u001b[0m \u001b[0;34m->\u001b[0m \u001b[0;32mNone\u001b[0m\u001b[0;34m:\u001b[0m\u001b[0;34m\u001b[0m\u001b[0;34m\u001b[0m\u001b[0m\n",
      "\u001b[0;31mAttributeError\u001b[0m: 'DataFrame' object has no attribute 'Distance'"
     ]
    }
   ],
   "source": []
  },
  {
   "cell_type": "code",
   "execution_count": null,
   "metadata": {},
   "outputs": [],
   "source": []
  }
 ],
 "metadata": {
  "kernelspec": {
   "display_name": "Python 3",
   "language": "python",
   "name": "python3"
  },
  "language_info": {
   "codemirror_mode": {
    "name": "ipython",
    "version": 3
   },
   "file_extension": ".py",
   "mimetype": "text/x-python",
   "name": "python",
   "nbconvert_exporter": "python",
   "pygments_lexer": "ipython3",
   "version": "3.7.6"
  }
 },
 "nbformat": 4,
 "nbformat_minor": 4
}
